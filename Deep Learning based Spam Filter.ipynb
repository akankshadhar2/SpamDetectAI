{
 "cells": [
  {
   "cell_type": "markdown",
   "metadata": {},
   "source": [
    "# Deep Learning based Email Spam Filter\n"
   ]
  },
  {
   "cell_type": "markdown",
   "metadata": {},
   "source": [
    "# 1. Preprocessing "
   ]
  },
  {
   "cell_type": "markdown",
   "metadata": {},
   "source": [
    "# Introduction \n",
    "We will create the email spam filter model using deep learning and evaluate the model with other currently popular machine learning methods like xgboost, random forest, svm etc.\n",
    "\n",
    "This approach is combining unsupervised learning with Supervised learning. We will generate the features in unsupervised way using TF-IDF algorithm and then use this to features to train Models on labeled enron data. \n",
    "\n",
    "\n",
    "\n",
    "\n",
    "\n",
    "\n",
    "The broad steps can be divided as : \n",
    "\n",
    "## 1. Preprocessing:\n",
    "\n",
    "Here we will generate a pandas dataframe from the enron dataset . We will tokenize and also do some data analysis  \n",
    "## 2.  Features Generation (Unsupervised Learning)  \n",
    "\n",
    "We will use [TF-IDF](https://en.wikipedia.org/wiki/Tf%E2%80%93idf) as features to be used for training the models. \n",
    "\n",
    "\n",
    "## 3. Model Training \n",
    "\n",
    "* We will train a 3-layered deep learning model. \n",
    "* We will also train Random forest, SVM  and Xgboost for comparison purpose.\n",
    "* We will the same tf-idf features for all the models \n",
    "\n",
    "## 4. Result Analysis and iterate to improve the performnce\n",
    "\n",
    "* We will present our results in nice and informative way to provide good comparison information. "
   ]
  },
  {
   "cell_type": "code",
   "execution_count": null,
   "metadata": {
    "collapsed": true
   },
   "outputs": [],
   "source": []
  },
  {
   "cell_type": "code",
   "execution_count": 15,
   "metadata": {},
   "outputs": [],
   "source": [
    "# Load required libraries\n",
    "import matplotlib.pyplot as plt\n",
    "import numpy as np\n",
    "import pandas as pd\n",
    "import os\n",
    "import time\n",
    "import pickle\n",
    "import seaborn as sns\n",
    "import sys\n",
    "sys.setrecursionlimit(1500)\n",
    "%matplotlib inline\n"
   ]
  },
  {
   "cell_type": "markdown",
   "metadata": {
    "collapsed": true
   },
   "source": [
    "# Preparing Enron Data "
   ]
  },
  {
   "cell_type": "markdown",
   "metadata": {},
   "source": [
    "We will extract and load the Enron spam data in Pandas Dataframe.\n",
    "\n",
    "Enron data combined with Spam assasin dataset has been obtained from : https://www.cs.bgu.ac.il/~elhadad/nlp16/spam_classifier.html and I  also used their code to process the data into Pandas dataframe"
   ]
  },
  {
   "cell_type": "code",
   "execution_count": 16,
   "metadata": {},
   "outputs": [],
   "source": [
    "def progress(i, end_val, bar_length=50):\n",
    "    '''\n",
    "    Print a progress bar of the form: Percent: [#####      ]\n",
    "    i is the current progress value expected in a range [0..end_val]\n",
    "    bar_length is the width of the progress bar on the screen.\n",
    "    '''\n",
    "    percent = float(i) / end_val\n",
    "    hashes = '#' * int(round(percent * bar_length))\n",
    "    spaces = ' ' * (bar_length - len(hashes))\n",
    "    sys.stdout.write(\"\\rPercent: [{0}] {1}%\".format(hashes + spaces, int(round(percent * 100))))\n",
    "    sys.stdout.flush()\n",
    "\n",
    "NEWLINE = '\\n'"
   ]
  },
  {
   "cell_type": "code",
   "execution_count": 17,
   "metadata": {},
   "outputs": [],
   "source": [
    "HAM = 'ham'\n",
    "SPAM = 'spam'\n",
    "\n",
    "SOURCES = [\n",
    "    ('../data/enron//spam',        SPAM),\n",
    "    ('../data/enron//easy_ham',    HAM),\n",
    "    ('../data/enron//hard_ham',    HAM),\n",
    "    ('../data/enron//beck-s',      HAM),\n",
    "    ('../data/enron//farmer-d',    HAM),\n",
    "    ('../data/enron//kaminski-v',  HAM),\n",
    "    ('../data/enron//kitchen-l',   HAM),\n",
    "    ('../data/enron//lokay-m',     HAM),\n",
    "    ('../data/enron//williams-w3', HAM),\n",
    "    ('../data/enron//BG',          SPAM),\n",
    "    ('../data/enron//GP',          SPAM),\n",
    "    ('../data/enron//SH',          SPAM)\n",
    "]\n",
    "\n",
    "SKIP_FILES = {'cmds'}\n",
    "NEWLINE=\"\\n\"\n",
    "\n",
    "def read_files(path):\n",
    "    '''\n",
    "    Generator of pairs (filename, filecontent)\n",
    "    for all files below path whose name is not in SKIP_FILES.\n",
    "    The content of the file is of the form:\n",
    "        header....\n",
    "        <emptyline>\n",
    "        body...\n",
    "    This skips the headers and returns body only.\n",
    "    '''\n",
    "    for root, dir_names, file_names in os.walk(path):\n",
    "        for path in dir_names:\n",
    "            read_files(os.path.join(root, path))\n",
    "        for file_name in file_names:\n",
    "            if file_name not in SKIP_FILES:\n",
    "                file_path = os.path.join(root, file_name)\n",
    "                if os.path.isfile(file_path):\n",
    "                    past_header, lines = False, []\n",
    "                    f = open(file_path, encoding=\"latin-1\")\n",
    "                    for line in f:\n",
    "                        if past_header:\n",
    "                            lines.append(line)\n",
    "                        elif line == NEWLINE:\n",
    "                            past_header = True\n",
    "                    f.close()\n",
    "                    content = NEWLINE.join(lines)\n",
    "                    yield file_path, content\n",
    "\n",
    "\n",
    "def build_data_frame(l, path, classification):\n",
    "    rows = []\n",
    "    index = []\n",
    "    for i, (file_name, text) in enumerate(read_files(path)):\n",
    "        if ((i+l) % 100 == 0):\n",
    "            progress(i+l, 58910, 50)\n",
    "        rows.append({'text': text, 'label': classification,'file':file_name})\n",
    "        index.append(file_name)\n",
    "   \n",
    "    data_frame = pd.DataFrame(rows, index=index)\n",
    "    return data_frame, len(rows)\n",
    "\n",
    "def load_data():\n",
    "    data = pd.DataFrame({'text': [], 'label': [],'file':[]})\n",
    "    l = 0\n",
    "    for path, classification in SOURCES:\n",
    "        data_frame, nrows = build_data_frame(l, path, classification)\n",
    "        data = data.append(data_frame)\n",
    "        l += nrows\n",
    "    data = data.reindex(np.random.permutation(data.index))\n",
    "    return data"
   ]
  },
  {
   "cell_type": "code",
   "execution_count": 18,
   "metadata": {},
   "outputs": [
    {
     "name": "stdout",
     "output_type": "stream",
     "text": [
      "\r",
      "Percent: [                                                  ] 0%"
     ]
    },
    {
     "name": "stderr",
     "output_type": "stream",
     "text": [
      "C:\\Users\\DELL\\AppData\\Local\\Temp\\ipykernel_15568\\3146108941.py:68: FutureWarning: The frame.append method is deprecated and will be removed from pandas in a future version. Use pandas.concat instead.\n",
      "  data = data.append(data_frame)\n"
     ]
    },
    {
     "name": "stdout",
     "output_type": "stream",
     "text": [
      "Percent: [###                                               ] 7%"
     ]
    },
    {
     "name": "stderr",
     "output_type": "stream",
     "text": [
      "C:\\Users\\DELL\\AppData\\Local\\Temp\\ipykernel_15568\\3146108941.py:68: FutureWarning: The frame.append method is deprecated and will be removed from pandas in a future version. Use pandas.concat instead.\n",
      "  data = data.append(data_frame)\n"
     ]
    },
    {
     "name": "stdout",
     "output_type": "stream",
     "text": [
      "Percent: [####                                              ] 7%"
     ]
    },
    {
     "name": "stderr",
     "output_type": "stream",
     "text": [
      "C:\\Users\\DELL\\AppData\\Local\\Temp\\ipykernel_15568\\3146108941.py:68: FutureWarning: The frame.append method is deprecated and will be removed from pandas in a future version. Use pandas.concat instead.\n",
      "  data = data.append(data_frame)\n"
     ]
    },
    {
     "name": "stdout",
     "output_type": "stream",
     "text": [
      "Percent: [#####                                             ] 11%"
     ]
    },
    {
     "name": "stderr",
     "output_type": "stream",
     "text": [
      "C:\\Users\\DELL\\AppData\\Local\\Temp\\ipykernel_15568\\3146108941.py:68: FutureWarning: The frame.append method is deprecated and will be removed from pandas in a future version. Use pandas.concat instead.\n",
      "  data = data.append(data_frame)\n"
     ]
    },
    {
     "name": "stdout",
     "output_type": "stream",
     "text": [
      "Percent: [#########                                         ] 17%"
     ]
    },
    {
     "name": "stderr",
     "output_type": "stream",
     "text": [
      "C:\\Users\\DELL\\AppData\\Local\\Temp\\ipykernel_15568\\3146108941.py:68: FutureWarning: The frame.append method is deprecated and will be removed from pandas in a future version. Use pandas.concat instead.\n",
      "  data = data.append(data_frame)\n"
     ]
    },
    {
     "name": "stdout",
     "output_type": "stream",
     "text": [
      "Percent: [############                                      ] 24%"
     ]
    },
    {
     "name": "stderr",
     "output_type": "stream",
     "text": [
      "C:\\Users\\DELL\\AppData\\Local\\Temp\\ipykernel_15568\\3146108941.py:68: FutureWarning: The frame.append method is deprecated and will be removed from pandas in a future version. Use pandas.concat instead.\n",
      "  data = data.append(data_frame)\n"
     ]
    },
    {
     "name": "stdout",
     "output_type": "stream",
     "text": [
      "Percent: [################                                  ] 31%"
     ]
    },
    {
     "name": "stderr",
     "output_type": "stream",
     "text": [
      "C:\\Users\\DELL\\AppData\\Local\\Temp\\ipykernel_15568\\3146108941.py:68: FutureWarning: The frame.append method is deprecated and will be removed from pandas in a future version. Use pandas.concat instead.\n",
      "  data = data.append(data_frame)\n"
     ]
    },
    {
     "name": "stdout",
     "output_type": "stream",
     "text": [
      "Percent: [##################                                ] 35%"
     ]
    },
    {
     "name": "stderr",
     "output_type": "stream",
     "text": [
      "C:\\Users\\DELL\\AppData\\Local\\Temp\\ipykernel_15568\\3146108941.py:68: FutureWarning: The frame.append method is deprecated and will be removed from pandas in a future version. Use pandas.concat instead.\n",
      "  data = data.append(data_frame)\n"
     ]
    },
    {
     "name": "stdout",
     "output_type": "stream",
     "text": [
      "Percent: [####################                              ] 40%"
     ]
    },
    {
     "name": "stderr",
     "output_type": "stream",
     "text": [
      "C:\\Users\\DELL\\AppData\\Local\\Temp\\ipykernel_15568\\3146108941.py:68: FutureWarning: The frame.append method is deprecated and will be removed from pandas in a future version. Use pandas.concat instead.\n",
      "  data = data.append(data_frame)\n"
     ]
    },
    {
     "name": "stdout",
     "output_type": "stream",
     "text": [
      "Percent: [############################                      ] 57%"
     ]
    },
    {
     "name": "stderr",
     "output_type": "stream",
     "text": [
      "C:\\Users\\DELL\\AppData\\Local\\Temp\\ipykernel_15568\\3146108941.py:68: FutureWarning: The frame.append method is deprecated and will be removed from pandas in a future version. Use pandas.concat instead.\n",
      "  data = data.append(data_frame)\n"
     ]
    },
    {
     "name": "stdout",
     "output_type": "stream",
     "text": [
      "Percent: [########################################          ] 80%"
     ]
    },
    {
     "name": "stderr",
     "output_type": "stream",
     "text": [
      "C:\\Users\\DELL\\AppData\\Local\\Temp\\ipykernel_15568\\3146108941.py:68: FutureWarning: The frame.append method is deprecated and will be removed from pandas in a future version. Use pandas.concat instead.\n",
      "  data = data.append(data_frame)\n"
     ]
    },
    {
     "name": "stdout",
     "output_type": "stream",
     "text": [
      "Percent: [################################################  ] 96%"
     ]
    },
    {
     "name": "stderr",
     "output_type": "stream",
     "text": [
      "C:\\Users\\DELL\\AppData\\Local\\Temp\\ipykernel_15568\\3146108941.py:68: FutureWarning: The frame.append method is deprecated and will be removed from pandas in a future version. Use pandas.concat instead.\n",
      "  data = data.append(data_frame)\n"
     ]
    }
   ],
   "source": [
    "# We will load the Email spam dataset into Panadas dataframe here . \n",
    "data=load_data()\n",
    "\n"
   ]
  },
  {
   "cell_type": "code",
   "execution_count": 9,
   "metadata": {},
   "outputs": [],
   "source": [
    "# We change the dataframe index from filenames to indices here. "
   ]
  },
  {
   "cell_type": "code",
   "execution_count": 19,
   "metadata": {},
   "outputs": [],
   "source": [
    "new_index=[x for x in range(len(data))]\n",
    "data.index=new_index\n"
   ]
  },
  {
   "cell_type": "markdown",
   "metadata": {},
   "source": [
    "We will add two more columns to our dataframe for tokenized text and token count. "
   ]
  },
  {
   "cell_type": "code",
   "execution_count": 20,
   "metadata": {},
   "outputs": [],
   "source": [
    "def token_count(row):\n",
    "    'returns token count'\n",
    "    text=row['tokenized_text']\n",
    "    length=len(text.split())\n",
    "    return length\n",
    "\n",
    "def tokenize(row):\n",
    "    \"tokenize the text using default space tokenizer\"\n",
    "    text=row['text']\n",
    "    lines=(line for line in text.split(NEWLINE) )\n",
    "    tokenized=\"\"\n",
    "    for sentence in lines:\n",
    "        tokenized+= \" \".join(tok for tok in sentence.split())\n",
    "    return tokenized\n"
   ]
  },
  {
   "cell_type": "markdown",
   "metadata": {},
   "source": [
    "We will use apply functions on dataframe to add the columns for : \n",
    "    * Tokenized text\n",
    "    * Token Count\n",
    "    * Language\n",
    "Language column in this case is not necessary as we only have english text. However this approach is good for properly dealing with multi lingual data.     "
   ]
  },
  {
   "cell_type": "code",
   "execution_count": 21,
   "metadata": {},
   "outputs": [],
   "source": [
    "data['tokenized_text']=data.apply(tokenize, axis=1)\n"
   ]
  },
  {
   "cell_type": "code",
   "execution_count": 22,
   "metadata": {},
   "outputs": [],
   "source": [
    "data['token_count']=data.apply(token_count, axis=1)\n"
   ]
  },
  {
   "cell_type": "code",
   "execution_count": 23,
   "metadata": {},
   "outputs": [],
   "source": [
    "data['lang']='en'"
   ]
  },
  {
   "cell_type": "markdown",
   "metadata": {
    "collapsed": true
   },
   "source": [
    "Let's look at how our dataframe looks like"
   ]
  },
  {
   "cell_type": "code",
   "execution_count": 24,
   "metadata": {},
   "outputs": [
    {
     "data": {
      "text/html": [
       "<div>\n",
       "<style scoped>\n",
       "    .dataframe tbody tr th:only-of-type {\n",
       "        vertical-align: middle;\n",
       "    }\n",
       "\n",
       "    .dataframe tbody tr th {\n",
       "        vertical-align: top;\n",
       "    }\n",
       "\n",
       "    .dataframe thead th {\n",
       "        text-align: right;\n",
       "    }\n",
       "</style>\n",
       "<table border=\"1\" class=\"dataframe\">\n",
       "  <thead>\n",
       "    <tr style=\"text-align: right;\">\n",
       "      <th></th>\n",
       "      <th>text</th>\n",
       "      <th>label</th>\n",
       "      <th>file</th>\n",
       "      <th>tokenized_text</th>\n",
       "      <th>token_count</th>\n",
       "      <th>lang</th>\n",
       "    </tr>\n",
       "  </thead>\n",
       "  <tbody>\n",
       "    <tr>\n",
       "      <th>0</th>\n",
       "      <td>Get the Finest Rolex Watch Replica !\\n\\n\\n\\n\\n...</td>\n",
       "      <td>spam</td>\n",
       "      <td>../data/enron//SH\\HP\\prodmsg.2.432835.2005626</td>\n",
       "      <td>Get the Finest Rolex Watch Replica !We only se...</td>\n",
       "      <td>96</td>\n",
       "      <td>en</td>\n",
       "    </tr>\n",
       "    <tr>\n",
       "      <th>1</th>\n",
       "      <td>Jargon is....\\n\\n\\n\\n2 : the technical termino...</td>\n",
       "      <td>ham</td>\n",
       "      <td>../data/enron//williams-w3\\bill_williams_iii\\413</td>\n",
       "      <td>Jargon is....2 : the technical terminology or ...</td>\n",
       "      <td>30</td>\n",
       "      <td>en</td>\n",
       "    </tr>\n",
       "    <tr>\n",
       "      <th>2</th>\n",
       "      <td>&lt;!DOCTYPE HTML PUBLIC \"-//W3C//DTD HTML 3.2//E...</td>\n",
       "      <td>spam</td>\n",
       "      <td>../data/enron//GP\\part6\\msg9372.eml</td>\n",
       "      <td>&lt;!DOCTYPE HTML PUBLIC \"-//W3C//DTD HTML 3.2//E...</td>\n",
       "      <td>89</td>\n",
       "      <td>en</td>\n",
       "    </tr>\n",
       "    <tr>\n",
       "      <th>3</th>\n",
       "      <td>This is a multi-part message in MIME format.\\n...</td>\n",
       "      <td>spam</td>\n",
       "      <td>../data/enron//SH\\HP\\prodmsg.2.430836.2005623</td>\n",
       "      <td>This is a multi-part message in MIME format.--...</td>\n",
       "      <td>183</td>\n",
       "      <td>en</td>\n",
       "    </tr>\n",
       "    <tr>\n",
       "      <th>4</th>\n",
       "      <td>&lt;!DOCTYPE HTML PUBLIC \"-//W3C//DTD HTML 3.2//E...</td>\n",
       "      <td>spam</td>\n",
       "      <td>../data/enron//GP\\part6\\msg9943.eml</td>\n",
       "      <td>&lt;!DOCTYPE HTML PUBLIC \"-//W3C//DTD HTML 3.2//E...</td>\n",
       "      <td>193</td>\n",
       "      <td>en</td>\n",
       "    </tr>\n",
       "  </tbody>\n",
       "</table>\n",
       "</div>"
      ],
      "text/plain": [
       "                                                text label  \\\n",
       "0  Get the Finest Rolex Watch Replica !\\n\\n\\n\\n\\n...  spam   \n",
       "1  Jargon is....\\n\\n\\n\\n2 : the technical termino...   ham   \n",
       "2  <!DOCTYPE HTML PUBLIC \"-//W3C//DTD HTML 3.2//E...  spam   \n",
       "3  This is a multi-part message in MIME format.\\n...  spam   \n",
       "4  <!DOCTYPE HTML PUBLIC \"-//W3C//DTD HTML 3.2//E...  spam   \n",
       "\n",
       "                                               file  \\\n",
       "0     ../data/enron//SH\\HP\\prodmsg.2.432835.2005626   \n",
       "1  ../data/enron//williams-w3\\bill_williams_iii\\413   \n",
       "2               ../data/enron//GP\\part6\\msg9372.eml   \n",
       "3     ../data/enron//SH\\HP\\prodmsg.2.430836.2005623   \n",
       "4               ../data/enron//GP\\part6\\msg9943.eml   \n",
       "\n",
       "                                      tokenized_text  token_count lang  \n",
       "0  Get the Finest Rolex Watch Replica !We only se...           96   en  \n",
       "1  Jargon is....2 : the technical terminology or ...           30   en  \n",
       "2  <!DOCTYPE HTML PUBLIC \"-//W3C//DTD HTML 3.2//E...           89   en  \n",
       "3  This is a multi-part message in MIME format.--...          183   en  \n",
       "4  <!DOCTYPE HTML PUBLIC \"-//W3C//DTD HTML 3.2//E...          193   en  "
      ]
     },
     "execution_count": 24,
     "metadata": {},
     "output_type": "execute_result"
    }
   ],
   "source": [
    "data.head()"
   ]
  },
  {
   "cell_type": "code",
   "execution_count": 25,
   "metadata": {},
   "outputs": [],
   "source": [
    "# Lets look at some information related to the data"
   ]
  },
  {
   "cell_type": "code",
   "execution_count": 26,
   "metadata": {},
   "outputs": [
    {
     "name": "stdout",
     "output_type": "stream",
     "text": [
      "total emails :  56523\n",
      "total spam emails :  32978\n",
      "total normal emails :  23545\n"
     ]
    }
   ],
   "source": [
    "df=data\n",
    "print(\"total emails : \", len(df))\n",
    "print  (\"total spam emails : \", len(df[df['label']=='spam']) )\n",
    "print  (\"total normal emails : \", len(df[df['label']=='ham']) )"
   ]
  },
  {
   "cell_type": "code",
   "execution_count": null,
   "metadata": {},
   "outputs": [],
   "source": []
  },
  {
   "cell_type": "markdown",
   "metadata": {
    "collapsed": true
   },
   "source": [
    "### Plot of Emails with Langage and Email type"
   ]
  },
  {
   "cell_type": "code",
   "execution_count": 27,
   "metadata": {},
   "outputs": [
    {
     "name": "stderr",
     "output_type": "stream",
     "text": [
      "C:\\Users\\DELL\\AppData\\Local\\Temp\\ipykernel_15568\\3295613192.py:1: FutureWarning: Indexing with multiple keys (implicitly converted to a tuple of keys) will be deprecated, use a list instead.\n",
      "  df1 = df.groupby(['lang','label'])['label','lang'].size().unstack()\n"
     ]
    },
    {
     "data": {
      "text/plain": [
       "Text(0.5, 1.0, 'Plot of Emails count with languages and email type')"
      ]
     },
     "execution_count": 27,
     "metadata": {},
     "output_type": "execute_result"
    },
    {
     "data": {
      "image/png": "[encoded data removed]",
      "text/plain": [
       "<Figure size 640x480 with 1 Axes>"
      ]
     },
     "metadata": {},
     "output_type": "display_data"
    }
   ],
   "source": [
    "df1 = df.groupby(['lang','label'])['label','lang'].size().unstack()\n",
    "\n",
    "ax=df1.plot(kind='bar')\n",
    "ax.set_ylabel(\"Total Emails\")\n",
    "ax.set_xlabel(\"Language\")\n",
    "ax.set_title(\"Plot of Emails count with languages and email type\")\n",
    "\n"
   ]
  },
  {
   "cell_type": "code",
   "execution_count": 28,
   "metadata": {},
   "outputs": [
    {
     "data": {
      "text/plain": [
       "Text(0.5, 1.0, 'Token length Vs Frequency for Enron Spam Emails')"
      ]
     },
     "execution_count": 28,
     "metadata": {},
     "output_type": "execute_result"
    },
    {
     "data": {
      "image/png": "[encoded data removed]",
      "text/plain": [
       "<Figure size 1200x600 with 2 Axes>"
      ]
     },
     "metadata": {},
     "output_type": "display_data"
    }
   ],
   "source": [
    "bins = [0,100,200,300,350,400,500,600,800,1000,1500,2000,3000,4000,5000,6000,10000,20000]\n",
    "\n",
    "\n",
    "fig, axes = plt.subplots(nrows=1, ncols=2,figsize=(12, 6))\n",
    "fig.subplots_adjust(hspace=.5)\n",
    "\n",
    "df_sub=df[ (df['lang']=='en') & (df['label']=='ham')]\n",
    "df1 = df_sub.groupby(pd.cut(df_sub['token_count'], bins=bins)).token_count.count()\n",
    "df1.index=[a.right for a in df1.index]\n",
    "res1=df1.plot(kind='bar',ax=axes[0])\n",
    "res1.set_xlabel('Email tokens length')\n",
    "res1.set_ylabel('Frequency')\n",
    "res1.set_title('Token length Vs Frequency for Enron Normal Emails')\n",
    "\n",
    "\n",
    "df_sub=df[ (df['lang']=='en') & (df['label']=='spam')]\n",
    "df1 = df_sub.groupby(pd.cut(df_sub['token_count'], bins=bins)).token_count.count()\n",
    "df1.index=[a.right for a in df1.index]\n",
    "res2=df1.plot(kind='bar',ax=axes[1])\n",
    "res2.set_xlabel('Email tokens length')\n",
    "res2.set_ylabel('Frequency')\n",
    "res2.set_title('Token length Vs Frequency for Enron Spam Emails')\n",
    "\n"
   ]
  },
  {
   "cell_type": "markdown",
   "metadata": {
    "collapsed": true
   },
   "source": [
    "# Prepare training and test data "
   ]
  },
  {
   "cell_type": "markdown",
   "metadata": {},
   "source": [
    "We will split data into test data  and data for model training and validation. We do this step to keep test data out of both tf-idf and classifier models. \n",
    "\n",
    "We will keep 10000 emails for testing and rest for the model building process. "
   ]
  },
  {
   "cell_type": "markdown",
   "metadata": {},
   "source": [
    "We shuffle the data in the dataframe first. "
   ]
  },
  {
   "cell_type": "code",
   "execution_count": 29,
   "metadata": {},
   "outputs": [],
   "source": [
    "# We randomize the rows to subset the dataframe\n",
    "df.reset_index(inplace=True)\n",
    "df=df.reindex(np.random.permutation(df.index))\n"
   ]
  },
  {
   "cell_type": "code",
   "execution_count": 30,
   "metadata": {},
   "outputs": [
    {
     "name": "stdout",
     "output_type": "stream",
     "text": [
      "total emails for unseen test data :  10000\n",
      "\t total spam emails for enron  :  5800\n",
      "\t total normal emails for enron  :  4200\n",
      "\n",
      "total emails for model training/validation :  46523\n",
      "\t total spam emails for enron  :  27178\n",
      "\t total normal emails for enron  :  19345\n"
     ]
    }
   ],
   "source": [
    "len_unseen=10000\n",
    "df_unseen_test= df.iloc[:len_unseen]\n",
    "df_model = df.iloc[len_unseen:]\n",
    "\n",
    "print('total emails for unseen test data : ', len(df_unseen_test))\n",
    "print('\\t total spam emails for enron  : ', len(df_unseen_test[(df_unseen_test['lang']=='en') & (df_unseen_test['label']=='spam')]))\n",
    "print('\\t total normal emails for enron  : ', len(df_unseen_test[(df_unseen_test['lang']=='en') & (df_unseen_test['label']=='ham')]))\n",
    "print()\n",
    "\n",
    "print('total emails for model training/validation : ', len(df_model))\n",
    "print('\\t total spam emails for enron  : ', len(df_model[(df_model['lang']=='en') & (df_model['label']=='spam')]))\n",
    "print('\\t total normal emails for enron  : ', len(df_model[(df_model['lang']=='en') & (df_model['label']=='ham')]))\n"
   ]
  },
  {
   "cell_type": "markdown",
   "metadata": {
    "collapsed": true
   },
   "source": [
    "# Train Machine Learning Models"
   ]
  },
  {
   "cell_type": "code",
   "execution_count": 31,
   "metadata": {},
   "outputs": [],
   "source": [
    "## Deep Learning Model "
   ]
  },
  {
   "cell_type": "markdown",
   "metadata": {
    "collapsed": true
   },
   "source": [
    "We will build our deep learning model using Keras library with tensorflow as backend. "
   ]
  },
  {
   "cell_type": "code",
   "execution_count": 32,
   "metadata": {},
   "outputs": [],
   "source": [
    "import keras\n",
    "\n",
    "from keras.layers import Input, Dense\n",
    "from keras.models import Model,load_model\n",
    "from keras.layers import Input, Dense\n",
    "from keras.models import Model\n",
    "from keras import regularizers\n",
    "\n",
    "from keras.preprocessing.text import Tokenizer\n",
    "from keras.models import Sequential\n",
    "from keras.layers import Dense, Dropout, Activation\n",
    "from keras.callbacks import ModelCheckpoint, TensorBoard\n",
    "\n"
   ]
  },
  {
   "cell_type": "code",
   "execution_count": 33,
   "metadata": {},
   "outputs": [],
   "source": [
    "import sklearn\n",
    "import joblib\n",
    "from sklearn import metrics\n",
    "from sklearn import svm\n",
    "#from sklearn.externals import joblib\n",
    "from sklearn.preprocessing import LabelEncoder\n"
   ]
  },
  {
   "cell_type": "code",
   "execution_count": null,
   "metadata": {},
   "outputs": [],
   "source": []
  },
  {
   "cell_type": "markdown",
   "metadata": {},
   "source": [
    "# Create tf-idf model from the data\n",
    "\n",
    "We will create tf-idf model with keras"
   ]
  },
  {
   "cell_type": "code",
   "execution_count": 34,
   "metadata": {},
   "outputs": [],
   "source": [
    "# max number of features\n",
    "num_max = 4000"
   ]
  },
  {
   "cell_type": "code",
   "execution_count": 35,
   "metadata": {},
   "outputs": [],
   "source": [
    "\n",
    "\n",
    "def train_tf_idf_model(texts):\n",
    "    \"train tf idf model \"\n",
    "    tic = time.process_time()\n",
    "    \n",
    "\n",
    "    tok = Tokenizer(num_words=num_max)\n",
    "    tok.fit_on_texts(texts)\n",
    "    toc = time.process_time()\n",
    "\n",
    "    print (\" -----total Computation time = \" + str((toc - tic)) + \" seconds\")\n",
    "    return tok\n",
    "\n",
    "\n",
    "def prepare_model_input(tfidf_model,dataframe,mode='tfidf'):\n",
    "    \n",
    "    \"function to prepare data input features using tfidf model\"\n",
    "    tic = time.process_time()\n",
    "    \n",
    "    le = LabelEncoder()\n",
    "    sample_texts = list(dataframe['tokenized_text'])\n",
    "    sample_texts = [' '.join(x.split()) for x in sample_texts]\n",
    "    \n",
    "    targets=list(dataframe['label'])\n",
    "    targets = [1. if x=='spam' else 0. for x in targets]\n",
    "    sample_target = le.fit_transform(targets)\n",
    "    \n",
    "    if mode=='tfidf':\n",
    "        sample_texts=tfidf_model.texts_to_matrix(sample_texts,mode='tfidf')\n",
    "    else:\n",
    "        sample_texts=tfidf_model.texts_to_matrix(sample_texts)\n",
    "    \n",
    "    toc = time.process_time()\n",
    "    \n",
    "    print('shape of labels: ', sample_target.shape)\n",
    "    print('shape of data: ', sample_texts.shape)\n",
    "    \n",
    "    print (\" -----total Computation time for preparing model data = \" + str((toc - tic)) + \" seconds\")\n",
    "    \n",
    "    return sample_texts,sample_target\n"
   ]
  },
  {
   "cell_type": "code",
   "execution_count": null,
   "metadata": {},
   "outputs": [],
   "source": []
  },
  {
   "cell_type": "code",
   "execution_count": 36,
   "metadata": {},
   "outputs": [
    {
     "name": "stdout",
     "output_type": "stream",
     "text": [
      " -----total Computation time = 12.578125 seconds\n"
     ]
    }
   ],
   "source": [
    "texts=list(df_model['tokenized_text'])\n",
    "tfidf_model=train_tf_idf_model(texts)"
   ]
  },
  {
   "cell_type": "code",
   "execution_count": 37,
   "metadata": {},
   "outputs": [
    {
     "name": "stdout",
     "output_type": "stream",
     "text": [
      "shape of labels:  (46523,)\n",
      "shape of data:  (46523, 4000)\n",
      " -----total Computation time for preparing model data = 27.546875 seconds\n"
     ]
    }
   ],
   "source": [
    "# prepare model input data\n",
    "mat_texts,tags=prepare_model_input(tfidf_model,df_model,mode='tfidf')"
   ]
  },
  {
   "cell_type": "code",
   "execution_count": null,
   "metadata": {},
   "outputs": [],
   "source": []
  },
  {
   "cell_type": "markdown",
   "metadata": {},
   "source": [
    "# Split Train/validation data \n",
    "\n",
    "We will use 85% for training, 15% for validation. "
   ]
  },
  {
   "cell_type": "code",
   "execution_count": 38,
   "metadata": {},
   "outputs": [
    {
     "name": "stdout",
     "output_type": "stream",
     "text": [
      "train data shape:  (39544, 4000) (39544,)\n",
      "validation data shape : (6979, 4000) (6979,)\n"
     ]
    }
   ],
   "source": [
    "from sklearn.model_selection import train_test_split\n",
    "\n",
    "X_train, X_val, y_train, y_val = train_test_split(mat_texts, tags, test_size=0.15)\n",
    "print ('train data shape: ', X_train.shape, y_train.shape)\n",
    "print ('validation data shape :' , X_val.shape, y_val.shape)"
   ]
  },
  {
   "cell_type": "markdown",
   "metadata": {},
   "source": [
    "# Build models\n",
    "\n"
   ]
  },
  {
   "cell_type": "markdown",
   "metadata": {},
   "source": [
    "## Deep learning model \n",
    "\n",
    "We will build our 3 layer deep learning model using Keras and tensorflow. \n",
    "\n",
    "\n",
    "### Network \n",
    "\n",
    "Input ->  L1 : (Linear -> Relu) -> L2: (Linear -> Relu)-> (Linear -> Sigmoid)\n",
    "\n",
    "* Layer L1 has 512 neurons with Relu activation\n",
    "* Layer L2 has 256 neurons with Relu activation\n",
    "\n",
    "* Regularization : We use dropout with probability 0.5 for L1, L2 to prevent overfitting \n",
    "* Loss Function : binary cross entropy\n",
    "* Optimizer : We use Adam optimizer for gradient descent estimation (faster optimization)\n",
    "* Data Shuffling : Data shuffling is set to true\n",
    "* Batch Size : 64\n",
    "* Learning Rate = 0.001\n"
   ]
  },
  {
   "cell_type": "code",
   "execution_count": 39,
   "metadata": {},
   "outputs": [],
   "source": [
    "## Define and initialize the network\n",
    "\n",
    "model_save_path=\"checkpoints/spam_detector_enron_model.h5\"\n"
   ]
  },
  {
   "cell_type": "code",
   "execution_count": 40,
   "metadata": {},
   "outputs": [],
   "source": [
    "def get_simple_model():\n",
    "    model = Sequential()\n",
    "    model.add(Dense(512, activation='relu', input_shape=(num_max,)))\n",
    "    model.add(Dropout(0.5))\n",
    "    model.add(Dense(256, activation='relu'))\n",
    "    model.add(Dropout(0.5))\n",
    "    model.add(Dense(1, activation='sigmoid'))\n",
    "    model.summary()\n",
    "    model.compile(loss='binary_crossentropy',\n",
    "              optimizer='adam',\n",
    "              metrics=['acc',keras.metrics.binary_accuracy])\n",
    "    print('compile done')\n",
    "    return model\n",
    "\n",
    "def check_model(model,x,y,epochs=2):\n",
    "    history=model.fit(x,y,batch_size=32,epochs=epochs,verbose=1,shuffle=True,validation_split=0.2,\n",
    "              callbacks=[checkpointer, tensorboard]).history\n",
    "    return history\n",
    "\n",
    "\n",
    "def check_model2(model,x_train,y_train,x_val,y_val,epochs=10):\n",
    "    history=model.fit(x_train,y_train,batch_size=64,\n",
    "                      epochs=epochs,verbose=1,\n",
    "                      shuffle=True,\n",
    "                      validation_data=(x_val, y_val),\n",
    "                      callbacks=[checkpointer, tensorboard]).history\n",
    "    return history\n",
    "\n",
    "# define checkpointer\n",
    "checkpointer = ModelCheckpoint(filepath=model_save_path,\n",
    "                               verbose=1,\n",
    "                               save_best_only=True)    \n",
    "\n",
    "\n",
    "# define tensorboard\n",
    "tensorboard = TensorBoard(log_dir='./logs',\n",
    "                          histogram_freq=0,\n",
    "                          write_graph=True,\n",
    "                          write_images=True)\n",
    "\n",
    "\n",
    "\n",
    "\n",
    "# define the predict function for the deep learning model for later use\n",
    "def predict(data):\n",
    "    result=spam_model_dl.predict(data)\n",
    "    prediction = [round(x[0]) for x in result]\n",
    "    return prediction\n",
    "\n"
   ]
  },
  {
   "cell_type": "code",
   "execution_count": 41,
   "metadata": {},
   "outputs": [],
   "source": [
    "## Train the model"
   ]
  },
  {
   "cell_type": "code",
   "execution_count": 42,
   "metadata": {},
   "outputs": [
    {
     "name": "stdout",
     "output_type": "stream",
     "text": [
      "Model: \"sequential\"\n",
      "_________________________________________________________________\n",
      " Layer (type)                Output Shape              Param #   \n",
      "=================================================================\n",
      " dense (Dense)               (None, 512)               2048512   \n",
      "                                                                 \n",
      " dropout (Dropout)           (None, 512)               0         \n",
      "                                                                 \n",
      " dense_1 (Dense)             (None, 256)               131328    \n",
      "                                                                 \n",
      " dropout_1 (Dropout)         (None, 256)               0         \n",
      "                                                                 \n",
      " dense_2 (Dense)             (None, 1)                 257       \n",
      "                                                                 \n",
      "=================================================================\n",
      "Total params: 2,180,097\n",
      "Trainable params: 2,180,097\n",
      "Non-trainable params: 0\n",
      "_________________________________________________________________\n",
      "compile done\n",
      "Epoch 1/10\n",
      "618/618 [==============================] - ETA: 0s - loss: 0.0710 - acc: 0.9793 - binary_accuracy: 0.9793\n",
      "Epoch 1: val_loss improved from inf to 0.02583, saving model to checkpoints\\spam_detector_enron_model.h5\n",
      "618/618 [==============================] - 28s 42ms/step - loss: 0.0710 - acc: 0.9793 - binary_accuracy: 0.9793 - val_loss: 0.0258 - val_acc: 0.9928 - val_binary_accuracy: 0.9928\n",
      "Epoch 2/10\n",
      "617/618 [============================>.] - ETA: 0s - loss: 0.0426 - acc: 0.9911 - binary_accuracy: 0.9911\n",
      "Epoch 2: val_loss did not improve from 0.02583\n",
      "618/618 [==============================] - 25s 40ms/step - loss: 0.0425 - acc: 0.9911 - binary_accuracy: 0.9911 - val_loss: 0.0407 - val_acc: 0.9933 - val_binary_accuracy: 0.9933\n",
      "Epoch 3/10\n",
      "617/618 [============================>.] - ETA: 0s - loss: 0.0176 - acc: 0.9956 - binary_accuracy: 0.9956\n",
      "Epoch 3: val_loss improved from 0.02583 to 0.02376, saving model to checkpoints\\spam_detector_enron_model.h5\n",
      "618/618 [==============================] - 26s 42ms/step - loss: 0.0176 - acc: 0.9956 - binary_accuracy: 0.9956 - val_loss: 0.0238 - val_acc: 0.9941 - val_binary_accuracy: 0.9941\n",
      "Epoch 4/10\n",
      "617/618 [============================>.] - ETA: 0s - loss: 0.0083 - acc: 0.9976 - binary_accuracy: 0.9976\n",
      "Epoch 4: val_loss did not improve from 0.02376\n",
      "618/618 [==============================] - 24s 39ms/step - loss: 0.0083 - acc: 0.9976 - binary_accuracy: 0.9976 - val_loss: 0.0401 - val_acc: 0.9927 - val_binary_accuracy: 0.9927\n",
      "Epoch 5/10\n",
      "617/618 [============================>.] - ETA: 0s - loss: 0.0069 - acc: 0.9984 - binary_accuracy: 0.9984\n",
      "Epoch 5: val_loss did not improve from 0.02376\n",
      "618/618 [==============================] - 26s 42ms/step - loss: 0.0071 - acc: 0.9984 - binary_accuracy: 0.9984 - val_loss: 0.0392 - val_acc: 0.9944 - val_binary_accuracy: 0.9944\n",
      "Epoch 6/10\n",
      "617/618 [============================>.] - ETA: 0s - loss: 0.0102 - acc: 0.9975 - binary_accuracy: 0.9975\n",
      "Epoch 6: val_loss did not improve from 0.02376\n",
      "618/618 [==============================] - 23s 37ms/step - loss: 0.0101 - acc: 0.9975 - binary_accuracy: 0.9975 - val_loss: 0.0292 - val_acc: 0.9941 - val_binary_accuracy: 0.9941\n",
      "Epoch 7/10\n",
      "618/618 [==============================] - ETA: 0s - loss: 0.0092 - acc: 0.9978 - binary_accuracy: 0.9978\n",
      "Epoch 7: val_loss did not improve from 0.02376\n",
      "618/618 [==============================] - 25s 40ms/step - loss: 0.0092 - acc: 0.9978 - binary_accuracy: 0.9978 - val_loss: 0.0569 - val_acc: 0.9921 - val_binary_accuracy: 0.9921\n",
      "Epoch 8/10\n",
      "617/618 [============================>.] - ETA: 0s - loss: 0.0164 - acc: 0.9975 - binary_accuracy: 0.9975\n",
      "Epoch 8: val_loss did not improve from 0.02376\n",
      "618/618 [==============================] - 25s 40ms/step - loss: 0.0164 - acc: 0.9975 - binary_accuracy: 0.9975 - val_loss: 0.0525 - val_acc: 0.9934 - val_binary_accuracy: 0.9934\n",
      "Epoch 9/10\n",
      "617/618 [============================>.] - ETA: 0s - loss: 0.0120 - acc: 0.9981 - binary_accuracy: 0.9981\n",
      "Epoch 9: val_loss did not improve from 0.02376\n",
      "618/618 [==============================] - 23s 37ms/step - loss: 0.0120 - acc: 0.9981 - binary_accuracy: 0.9981 - val_loss: 0.0329 - val_acc: 0.9947 - val_binary_accuracy: 0.9947\n",
      "Epoch 10/10\n",
      "617/618 [============================>.] - ETA: 0s - loss: 0.0045 - acc: 0.9988 - binary_accuracy: 0.9988\n",
      "Epoch 10: val_loss did not improve from 0.02376\n",
      "618/618 [==============================] - 24s 40ms/step - loss: 0.0045 - acc: 0.9988 - binary_accuracy: 0.9988 - val_loss: 0.0492 - val_acc: 0.9956 - val_binary_accuracy: 0.9956\n"
     ]
    }
   ],
   "source": [
    "# get the compiled model\n",
    "model = get_simple_model()\n",
    "\n",
    "# load history\n",
    "# history=check_model(m,mat_texts,tags,epochs=10)\n",
    "history=check_model2(model,X_train,y_train,X_val,y_val,epochs=10)"
   ]
  },
  {
   "cell_type": "markdown",
   "metadata": {
    "collapsed": true
   },
   "source": [
    "The results on validation data looks very good. Lets plot the loss on train and validation data "
   ]
  },
  {
   "cell_type": "code",
   "execution_count": 43,
   "metadata": {},
   "outputs": [
    {
     "data": {
      "image/png": "[encoded data removed]",
      "text/plain": [
       "<Figure size 640x480 with 1 Axes>"
      ]
     },
     "metadata": {},
     "output_type": "display_data"
    }
   ],
   "source": [
    "\n",
    "plt.plot(history['loss'])\n",
    "plt.plot(history['val_loss'])\n",
    "plt.title('Email Spam Filter Model loss')\n",
    "plt.ylabel('loss')\n",
    "plt.xlabel('epoch')\n",
    "plt.legend(['train', 'test'], loc='upper right');"
   ]
  },
  {
   "cell_type": "markdown",
   "metadata": {},
   "source": [
    "## Other Machine Learning Models"
   ]
  },
  {
   "cell_type": "markdown",
   "metadata": {
    "collapsed": true
   },
   "source": [
    " We will build 3 more models and compare the performance in the same way. For this purpose we will use the same tf-idf as input feature . We will train following models : \n",
    " \n",
    " * SVM \n",
    " * Random Forest\n",
    " * XGboost"
   ]
  },
  {
   "cell_type": "code",
   "execution_count": 112,
   "metadata": {
    "collapsed": true
   },
   "outputs": [],
   "source": []
  },
  {
   "cell_type": "markdown",
   "metadata": {
    "collapsed": true
   },
   "source": [
    "### Lets train the svm model "
   ]
  },
  {
   "cell_type": "code",
   "execution_count": null,
   "metadata": {},
   "outputs": [],
   "source": [
    "spam_model_svm = svm.SVC(verbose=1)\n",
    "spam_model_svm.fit(X_train,y_train)\n"
   ]
  },
  {
   "cell_type": "markdown",
   "metadata": {
    "collapsed": true
   },
   "source": [
    "### Lets build random forest"
   ]
  },
  {
   "cell_type": "code",
   "execution_count": null,
   "metadata": {},
   "outputs": [],
   "source": [
    "from sklearn.ensemble import RandomForestClassifier\n"
   ]
  },
  {
   "cell_type": "code",
   "execution_count": null,
   "metadata": {},
   "outputs": [],
   "source": [
    "spam_model_rf = RandomForestClassifier(n_jobs=2, random_state=0,n_estimators=50)\n",
    "\n",
    "# Train the Classifier to take the training features and learn how they relate\n",
    "# to the training y (the species)\n",
    "spam_model_rf.fit(X_train,y_train)\n"
   ]
  },
  {
   "cell_type": "markdown",
   "metadata": {},
   "source": [
    "### Lets train xgboost model"
   ]
  },
  {
   "cell_type": "code",
   "execution_count": null,
   "metadata": {},
   "outputs": [],
   "source": [
    "# Build xgboost also \n",
    "import xgboost as xgb"
   ]
  },
  {
   "cell_type": "code",
   "execution_count": null,
   "metadata": {},
   "outputs": [],
   "source": [
    "spam_model_xgboost = xgb.XGBClassifier()\n",
    "spam_model_xgboost.fit(X_train,y_train)"
   ]
  },
  {
   "cell_type": "code",
   "execution_count": null,
   "metadata": {
    "collapsed": true
   },
   "outputs": [],
   "source": []
  },
  {
   "cell_type": "markdown",
   "metadata": {},
   "source": [
    "# Evaluate Model Performance"
   ]
  },
  {
   "cell_type": "markdown",
   "metadata": {},
   "source": [
    "## Lets prepare test data "
   ]
  },
  {
   "cell_type": "code",
   "execution_count": null,
   "metadata": {
    "collapsed": true
   },
   "outputs": [],
   "source": [
    "\n",
    "sample_texts,sample_target=prepare_model_input(tfidf_model,df_unseen_test,mode='')\n"
   ]
  },
  {
   "cell_type": "code",
   "execution_count": 145,
   "metadata": {
    "collapsed": true
   },
   "outputs": [],
   "source": [
    "# lets write a function to create the dataframe of the results from all the models"
   ]
  },
  {
   "cell_type": "code",
   "execution_count": 297,
   "metadata": {
    "collapsed": true
   },
   "outputs": [],
   "source": [
    "model_dict={}\n",
    "model_dict['random_forest']=spam_model_rf\n",
    "model_dict['svm']=spam_model_svm\n",
    "model_dict['deep_learning']=spam_model_dl\n",
    "model_dict['xgboost']=spam_model_xgboost\n",
    "\n",
    "\n",
    "def getResults(model_dict,sample_texts,sample_target):\n",
    "    '''\n",
    "    Get results from different models\n",
    "    '''\n",
    "    results=[]\n",
    "    \n",
    "    results_cm={}\n",
    "    \n",
    "    for name,model in model_dict.items():\n",
    "#         print(name)\n",
    "        tic1 = time.process_time()\n",
    "        if name in 'deep_learning':\n",
    "            predicted_sample = predict(sample_texts)\n",
    "        else:    \n",
    "            predicted_sample = model.predict(sample_texts)\n",
    "        toc1 = time.process_time()\n",
    "#         print(predicted_sample)\n",
    "\n",
    "        cm=sklearn.metrics.confusion_matrix(sample_target, predicted_sample)\n",
    "        results_cm[name]=cm\n",
    "        \n",
    "        total=len(predicted_sample)\n",
    "        TP = cm[0][0]\n",
    "        FP = cm[0][1]\n",
    "        FN = cm[1][0]\n",
    "        TN = cm[1][1]\n",
    "        \n",
    "        time_taken=round(toc1 - tic1,4)\n",
    "        res=sklearn.metrics.precision_recall_fscore_support(sample_target, predicted_sample)\n",
    "        results.append([name,np.mean(res[0]),np.mean(res[1]),np.mean(res[2]),total,TP,FP,FN,TN,str(time_taken)] )\n",
    "        \n",
    "        \n",
    "    \n",
    "    df_cols=['model','precision','recall','f1_score','Total_samples','TP','FP','FN','TN','execution_time']\n",
    "    result_df=pd.DataFrame(results,columns=df_cols)\n",
    "    \n",
    "    return result_df,results_cm\n",
    "    \n",
    "    \n",
    "        \n"
   ]
  },
  {
   "cell_type": "markdown",
   "metadata": {},
   "source": [
    "## Results"
   ]
  },
  {
   "cell_type": "code",
   "execution_count": 298,
   "metadata": {},
   "outputs": [
    {
     "data": {
      "text/html": [
       "<div>\n",
       "<style>\n",
       "    .dataframe thead tr:only-child th {\n",
       "        text-align: right;\n",
       "    }\n",
       "\n",
       "    .dataframe thead th {\n",
       "        text-align: left;\n",
       "    }\n",
       "\n",
       "    .dataframe tbody tr th {\n",
       "        vertical-align: top;\n",
       "    }\n",
       "</style>\n",
       "<table border=\"1\" class=\"dataframe\">\n",
       "  <thead>\n",
       "    <tr style=\"text-align: right;\">\n",
       "      <th></th>\n",
       "      <th>model</th>\n",
       "      <th>precision</th>\n",
       "      <th>recall</th>\n",
       "      <th>f1_score</th>\n",
       "      <th>Total_samples</th>\n",
       "      <th>TP</th>\n",
       "      <th>FP</th>\n",
       "      <th>FN</th>\n",
       "      <th>TN</th>\n",
       "      <th>execution_time</th>\n",
       "    </tr>\n",
       "  </thead>\n",
       "  <tbody>\n",
       "    <tr>\n",
       "      <th>0</th>\n",
       "      <td>random_forest</td>\n",
       "      <td>0.887624</td>\n",
       "      <td>0.896754</td>\n",
       "      <td>0.890721</td>\n",
       "      <td>10000</td>\n",
       "      <td>3743</td>\n",
       "      <td>338</td>\n",
       "      <td>732</td>\n",
       "      <td>5187</td>\n",
       "      <td>0.5935</td>\n",
       "    </tr>\n",
       "    <tr>\n",
       "      <th>1</th>\n",
       "      <td>svm</td>\n",
       "      <td>0.935807</td>\n",
       "      <td>0.947646</td>\n",
       "      <td>0.939390</td>\n",
       "      <td>10000</td>\n",
       "      <td>4026</td>\n",
       "      <td>55</td>\n",
       "      <td>540</td>\n",
       "      <td>5379</td>\n",
       "      <td>318.8586</td>\n",
       "    </tr>\n",
       "    <tr>\n",
       "      <th>2</th>\n",
       "      <td>deep_learning</td>\n",
       "      <td>0.990649</td>\n",
       "      <td>0.990723</td>\n",
       "      <td>0.990686</td>\n",
       "      <td>10000</td>\n",
       "      <td>4037</td>\n",
       "      <td>44</td>\n",
       "      <td>46</td>\n",
       "      <td>5873</td>\n",
       "      <td>5.4259</td>\n",
       "    </tr>\n",
       "    <tr>\n",
       "      <th>3</th>\n",
       "      <td>xgboost</td>\n",
       "      <td>0.882452</td>\n",
       "      <td>0.875857</td>\n",
       "      <td>0.878744</td>\n",
       "      <td>10000</td>\n",
       "      <td>3398</td>\n",
       "      <td>683</td>\n",
       "      <td>479</td>\n",
       "      <td>5440</td>\n",
       "      <td>0.4664</td>\n",
       "    </tr>\n",
       "  </tbody>\n",
       "</table>\n",
       "</div>"
      ],
      "text/plain": [
       "           model  precision    recall  f1_score  Total_samples    TP   FP  \\\n",
       "0  random_forest   0.887624  0.896754  0.890721          10000  3743  338   \n",
       "1            svm   0.935807  0.947646  0.939390          10000  4026   55   \n",
       "2  deep_learning   0.990649  0.990723  0.990686          10000  4037   44   \n",
       "3        xgboost   0.882452  0.875857  0.878744          10000  3398  683   \n",
       "\n",
       "    FN    TN execution_time  \n",
       "0  732  5187         0.5935  \n",
       "1  540  5379       318.8586  \n",
       "2   46  5873         5.4259  \n",
       "3  479  5440         0.4664  "
      ]
     },
     "execution_count": 298,
     "metadata": {},
     "output_type": "execute_result"
    }
   ],
   "source": [
    "result_df,results_cm= getResults(model_dict,sample_texts,sample_target)\n",
    "result_df"
   ]
  },
  {
   "cell_type": "markdown",
   "metadata": {},
   "source": [
    "As we see, deep learning model does very well on the test data. The results from other models are close. I have tried this approach over multiple language emails and deep learning model is very consistent with the performance. XGboost also does very well. Please note that i have not optimized random forest and SVM much beyond the defaults. So they may have better performance with tuning. \n"
   ]
  },
  {
   "cell_type": "markdown",
   "metadata": {},
   "source": [
    "### Plot confusion Matrix for all the models"
   ]
  },
  {
   "cell_type": "code",
   "execution_count": 300,
   "metadata": {
    "collapsed": true
   },
   "outputs": [],
   "source": [
    "def plot_heatmap(cm,title):\n",
    "    df_cm2 = pd.DataFrame(cm, index = ['normal', 'spam'])\n",
    "    df_cm2.columns=['normal','spam']\n",
    "\n",
    "    ax = plt.axes()\n",
    "    sns.heatmap(df_cm2, annot=True, fmt=\"d\", linewidths=.5,ax=ax)\n",
    "    ax.set_title(title)\n",
    "    plt.show()\n",
    "\n",
    "    \n",
    "    return\n",
    "    "
   ]
  },
  {
   "cell_type": "markdown",
   "metadata": {},
   "source": [
    "### CM for Deep Learning Model"
   ]
  },
  {
   "cell_type": "code",
   "execution_count": 301,
   "metadata": {},
   "outputs": [
    {
     "data": {
      "image/png": "[encoded data removed]",
      "text/plain": [
       "<matplotlib.figure.Figure at 0x12a0be400>"
      ]
     },
     "metadata": {},
     "output_type": "display_data"
    }
   ],
   "source": [
    "plot_heatmap(results_cm['deep_learning'],'Deep Learning')"
   ]
  },
  {
   "cell_type": "markdown",
   "metadata": {},
   "source": [
    "### CM for SVM Model"
   ]
  },
  {
   "cell_type": "code",
   "execution_count": 302,
   "metadata": {},
   "outputs": [
    {
     "data": {
      "image/png": "[encoded data removed]",
      "text/plain": [
       "<matplotlib.figure.Figure at 0x13c9a6d30>"
      ]
     },
     "metadata": {},
     "output_type": "display_data"
    }
   ],
   "source": [
    "plot_heatmap(results_cm['svm'],'SVM')"
   ]
  },
  {
   "cell_type": "markdown",
   "metadata": {},
   "source": [
    "### CM for Random Forest Model"
   ]
  },
  {
   "cell_type": "code",
   "execution_count": 303,
   "metadata": {},
   "outputs": [
    {
     "data": {
      "image/png": "[encoded data removed]",
      "text/plain": [
       "<matplotlib.figure.Figure at 0x1341e1630>"
      ]
     },
     "metadata": {},
     "output_type": "display_data"
    }
   ],
   "source": [
    "plot_heatmap(results_cm['random_forest'],'Random Forest')"
   ]
  },
  {
   "cell_type": "markdown",
   "metadata": {},
   "source": [
    "### CM for Xgboost"
   ]
  },
  {
   "cell_type": "code",
   "execution_count": 305,
   "metadata": {},
   "outputs": [
    {
     "data": {
      "image/png": "[encoded data removed]",
      "text/plain": [
       "<matplotlib.figure.Figure at 0x11fc340b8>"
      ]
     },
     "metadata": {},
     "output_type": "display_data"
    }
   ],
   "source": [
    "plot_heatmap(results_cm['xgboost'],'xgboost')"
   ]
  },
  {
   "cell_type": "code",
   "execution_count": null,
   "metadata": {
    "collapsed": true
   },
   "outputs": [],
   "source": []
  },
  {
   "cell_type": "code",
   "execution_count": null,
   "metadata": {
    "collapsed": true
   },
   "outputs": [],
   "source": []
  }
 ],
 "metadata": {
  "kernelspec": {
   "display_name": "Python 3",
   "language": "python",
   "name": "python3"
  },
  "language_info": {
   "codemirror_mode": {
    "name": "ipython",
    "version": 3
   },
   "file_extension": ".py",
   "mimetype": "text/x-python",
   "name": "python",
   "nbconvert_exporter": "python",
   "pygments_lexer": "ipython3",
   "version": "3.8.8"
  }
 },
 "nbformat": 4,
 "nbformat_minor": 2
}
